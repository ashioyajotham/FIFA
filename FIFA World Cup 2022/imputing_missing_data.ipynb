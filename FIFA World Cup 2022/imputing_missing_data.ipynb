{
 "cells": [
  {
   "cell_type": "code",
   "execution_count": 1,
   "id": "cdf33877",
   "metadata": {},
   "outputs": [],
   "source": [
    "from selenium import webdriver\n",
    "from selenium.webdriver.chrome.service import Service\n",
    "from selenium.webdriver.chrome.options import Options\n",
    "import time\n",
    "import pandas as pd\n",
    "\n",
    "path = \"/usr/local/bin/chromedriver\"\n",
    "options = Options()\n",
    "options.binary_location = '/usr/bin/brave-browser'\n",
    "service = Service(executable_path=path)\n",
    "driver = webdriver.Chrome(options = options, service=service)\n",
    "\n",
    "\n",
    "def get_misssing_data(year):\n",
    "    web = f'https://en.wikipedia.org/wiki/{year}_FIFA_World_Cup'\n",
    "\n",
    "    driver.get(web)\n",
    "    matches = driver.find_elements(by='xpath', value='//td[@align=\"right\"]/.. | //td[@style=\"text-align:right;\"]/..')\n",
    "    # matches = driver.find_elements(by='xpath', value='//tr[@style=\"font-size:90%\"]')\n",
    "\n",
    "    home = []\n",
    "    score = []\n",
    "    away = []\n",
    "\n",
    "    for match in matches:\n",
    "        home.append(match.find_element(by='xpath', value='./td[1]').text)\n",
    "        score.append(match.find_element(by='xpath', value='./td[2]').text)\n",
    "        away.append(match.find_element(by='xpath', value='./td[3]').text)\n",
    "\n",
    "    dict_football = {'home': home, 'score': score, 'away': away}\n",
    "    df_football = pd.DataFrame(dict_football)\n",
    "    df_football['year'] = year\n",
    "    time.sleep(2)\n",
    "    return df_football\n",
    "\n",
    "\n",
    "years = [1930, 1934, 1938, 1950, 1954, 1958, 1962, 1966, 1970, 1974,\n",
    "         1978, 1982, 1986, 1990, 1994, 1998, 2002, 2006, 2010, 2014,\n",
    "         2018]\n",
    "\n",
    "fifa = [get_misssing_data(year) for year in years]\n",
    "driver.quit()\n",
    "df_fifa = pd.concat(fifa, ignore_index=True)\n",
    "df_fifa.to_csv(\"fifa_worldcup_missing_data.csv\", index=False)"
   ]
  },
  {
   "cell_type": "code",
   "execution_count": null,
   "id": "6b515171",
   "metadata": {},
   "outputs": [],
   "source": []
  }
 ],
 "metadata": {
  "kernelspec": {
   "display_name": "Python 3 (ipykernel)",
   "language": "python",
   "name": "python3"
  },
  "language_info": {
   "codemirror_mode": {
    "name": "ipython",
    "version": 3
   },
   "file_extension": ".py",
   "mimetype": "text/x-python",
   "name": "python",
   "nbconvert_exporter": "python",
   "pygments_lexer": "ipython3",
   "version": "3.10.6"
  }
 },
 "nbformat": 4,
 "nbformat_minor": 5
}
